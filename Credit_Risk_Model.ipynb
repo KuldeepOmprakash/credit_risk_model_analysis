{
 "cells": [
  {
   "cell_type": "markdown",
   "id": "d6ec1b55",
   "metadata": {},
   "source": [
    "**CREDIT RISK MODEL**"
   ]
  },
  {
   "cell_type": "markdown",
   "id": "f23cd5c6",
   "metadata": {},
   "source": [
    "**TASK**: Create a credit risk model which estimates the probibality of default for every personal account."
   ]
  },
  {
   "cell_type": "markdown",
   "id": "69268d34",
   "metadata": {},
   "source": [
    "1) Clean the dataset\n",
    "2) Pre-process the dataset\n",
    "3) Prepare the dataset for further analysis"
   ]
  },
  {
   "cell_type": "markdown",
   "id": "50d7d579",
   "metadata": {},
   "source": [
    "**Import python libraries**"
   ]
  },
  {
   "cell_type": "code",
   "execution_count": 1,
   "id": "b1d6d394",
   "metadata": {},
   "outputs": [],
   "source": [
    "import numpy as np"
   ]
  },
  {
   "cell_type": "code",
   "execution_count": 2,
   "id": "158467ae",
   "metadata": {},
   "outputs": [],
   "source": [
    "np.set_printoptions(suppress = True, linewidth = 100, precision = 2)"
   ]
  },
  {
   "cell_type": "code",
   "execution_count": 3,
   "id": "076fb403",
   "metadata": {},
   "outputs": [
    {
     "data": {
      "text/plain": [
       "array([[48010226.  ,         nan,    35000.  , ...,         nan,         nan,     9452.96],\n",
       "       [57693261.  ,         nan,    30000.  , ...,         nan,         nan,     4679.7 ],\n",
       "       [59432726.  ,         nan,    15000.  , ...,         nan,         nan,     1969.83],\n",
       "       ...,\n",
       "       [50415990.  ,         nan,    10000.  , ...,         nan,         nan,     2185.64],\n",
       "       [46154151.  ,         nan,         nan, ...,         nan,         nan,     3199.4 ],\n",
       "       [66055249.  ,         nan,    10000.  , ...,         nan,         nan,      301.9 ]])"
      ]
     },
     "execution_count": 3,
     "metadata": {},
     "output_type": "execute_result"
    }
   ],
   "source": [
    "#Importing Data \n",
    "raw_data = np.genfromtxt(\"D:\\Data Analytics\\Data Analyst Course\\S28 - A Loan Data Example with NumPy\\loan-data.csv\",\n",
    "                         delimiter = ';',\n",
    "                        skip_header = 1,\n",
    "                        autostrip = True)\n",
    "raw_data"
   ]
  },
  {
   "cell_type": "code",
   "execution_count": 4,
   "id": "a7863cb7",
   "metadata": {},
   "outputs": [
    {
     "data": {
      "text/plain": [
       "88005"
      ]
     },
     "execution_count": 4,
     "metadata": {},
     "output_type": "execute_result"
    }
   ],
   "source": [
    "#looking for missing data and replacing them with some known data\n",
    "np.isnan(raw_data).sum()"
   ]
  },
  {
   "cell_type": "code",
   "execution_count": 5,
   "id": "75108e7b",
   "metadata": {},
   "outputs": [
    {
     "name": "stderr",
     "output_type": "stream",
     "text": [
      "C:\\Users\\hp\\AppData\\Local\\Temp\\ipykernel_33184\\1374717410.py:2: RuntimeWarning: Mean of empty slice\n",
      "  filler_mean = np.nanmean(raw_data, axis = 0)\n"
     ]
    }
   ],
   "source": [
    "filler_max = np.nanmax(raw_data) + 1\n",
    "filler_mean = np.nanmean(raw_data, axis = 0)"
   ]
  },
  {
   "cell_type": "code",
   "execution_count": 6,
   "id": "a7a1eccb",
   "metadata": {},
   "outputs": [
    {
     "data": {
      "text/plain": [
       "array([54015809.19,         nan,    15273.46,         nan,    15311.04,         nan,       16.62,\n",
       "            440.92,         nan,         nan,         nan,         nan,         nan,     3143.85])"
      ]
     },
     "execution_count": 6,
     "metadata": {},
     "output_type": "execute_result"
    }
   ],
   "source": [
    "filler_mean "
   ]
  },
  {
   "cell_type": "code",
   "execution_count": 7,
   "id": "eddf0666",
   "metadata": {},
   "outputs": [
    {
     "name": "stderr",
     "output_type": "stream",
     "text": [
      "C:\\Users\\hp\\AppData\\Local\\Temp\\ipykernel_33184\\2564455123.py:1: RuntimeWarning: All-NaN slice encountered\n",
      "  filler_stats = np.array([np.nanmin(raw_data, axis = 0), filler_mean, np.nanmax(raw_data, axis = 0)])\n"
     ]
    },
    {
     "data": {
      "text/plain": [
       "array([[  373332.  ,         nan,     1000.  ,         nan,     1000.  ,         nan,        6.  ,\n",
       "              31.42,         nan,         nan,         nan,         nan,         nan,        0.  ],\n",
       "       [54015809.19,         nan,    15273.46,         nan,    15311.04,         nan,       16.62,\n",
       "             440.92,         nan,         nan,         nan,         nan,         nan,     3143.85],\n",
       "       [68616519.  ,         nan,    35000.  ,         nan,    35000.  ,         nan,       28.99,\n",
       "            1372.97,         nan,         nan,         nan,         nan,         nan,    41913.62]])"
      ]
     },
     "execution_count": 7,
     "metadata": {},
     "output_type": "execute_result"
    }
   ],
   "source": [
    "filler_stats = np.array([np.nanmin(raw_data, axis = 0), filler_mean, np.nanmax(raw_data, axis = 0)])\n",
    "filler_stats"
   ]
  },
  {
   "cell_type": "code",
   "execution_count": 8,
   "id": "a9b750ba",
   "metadata": {},
   "outputs": [
    {
     "data": {
      "text/plain": [
       "array([ 1,  3,  5,  8,  9, 10, 11, 12], dtype=int64)"
      ]
     },
     "execution_count": 8,
     "metadata": {},
     "output_type": "execute_result"
    }
   ],
   "source": [
    "#Splitting the numeric and string(text) dataset separatly for manipulating further\n",
    "columns_strings = np.argwhere(np.isnan(filler_mean)).squeeze()\n",
    "columns_strings"
   ]
  },
  {
   "cell_type": "code",
   "execution_count": 9,
   "id": "b0649660",
   "metadata": {},
   "outputs": [
    {
     "data": {
      "text/plain": [
       "array([ 0,  2,  4,  6,  7, 13], dtype=int64)"
      ]
     },
     "execution_count": 9,
     "metadata": {},
     "output_type": "execute_result"
    }
   ],
   "source": [
    "columns_numeric = np.argwhere(np.isnan(filler_mean)==False).squeeze()\n",
    "columns_numeric"
   ]
  },
  {
   "cell_type": "code",
   "execution_count": 10,
   "id": "4f08b4d2",
   "metadata": {},
   "outputs": [
    {
     "name": "stderr",
     "output_type": "stream",
     "text": [
      "C:\\Users\\hp\\AppData\\Local\\Temp\\ipykernel_33184\\2837552243.py:6: DeprecationWarning: `np.str` is a deprecated alias for the builtin `str`. To silence this warning, use `str` by itself. Doing this will not modify any behavior and is safe. If you specifically wanted the numpy scalar type, use `np.str_` here.\n",
      "Deprecated in NumPy 1.20; for more details and guidance: https://numpy.org/devdocs/release/1.20.0-notes.html#deprecations\n",
      "  dtype = np.str)\n"
     ]
    },
    {
     "data": {
      "text/plain": [
       "array([['May-15', 'Current', '36 months', ..., 'Verified',\n",
       "        'https://www.lendingclub.com/browse/loanDetail.action?loan_id=48010226', 'CA'],\n",
       "       ['', 'Current', '36 months', ..., 'Source Verified',\n",
       "        'https://www.lendingclub.com/browse/loanDetail.action?loan_id=57693261', 'NY'],\n",
       "       ['Sep-15', 'Current', '36 months', ..., 'Verified',\n",
       "        'https://www.lendingclub.com/browse/loanDetail.action?loan_id=59432726', 'PA'],\n",
       "       ...,\n",
       "       ['Jun-15', 'Current', '36 months', ..., 'Source Verified',\n",
       "        'https://www.lendingclub.com/browse/loanDetail.action?loan_id=50415990', 'CA'],\n",
       "       ['Apr-15', 'Current', '36 months', ..., 'Source Verified',\n",
       "        'https://www.lendingclub.com/browse/loanDetail.action?loan_id=46154151', 'OH'],\n",
       "       ['Dec-15', 'Current', '36 months', ..., '',\n",
       "        'https://www.lendingclub.com/browse/loanDetail.action?loan_id=66055249', 'IL']],\n",
       "      dtype='<U69')"
      ]
     },
     "execution_count": 10,
     "metadata": {},
     "output_type": "execute_result"
    }
   ],
   "source": [
    "load_data_strings = np.genfromtxt(\"D:\\Data Analytics\\Data Analyst Course\\S28 - A Loan Data Example with NumPy\\loan-data.csv\",\n",
    "                         delimiter = ';',\n",
    "                         skip_header = 1,\n",
    "                         autostrip = True,\n",
    "                         usecols = columns_strings,\n",
    "                         dtype = np.str)\n",
    "load_data_strings"
   ]
  },
  {
   "cell_type": "code",
   "execution_count": 11,
   "id": "98d880cc",
   "metadata": {},
   "outputs": [
    {
     "data": {
      "text/plain": [
       "array([[48010226.  ,    35000.  ,    35000.  ,       13.33,     1184.86,     9452.96],\n",
       "       [57693261.  ,    30000.  ,    30000.  , 68616520.  ,      938.57,     4679.7 ],\n",
       "       [59432726.  ,    15000.  ,    15000.  , 68616520.  ,      494.86,     1969.83],\n",
       "       ...,\n",
       "       [50415990.  ,    10000.  ,    10000.  , 68616520.  , 68616520.  ,     2185.64],\n",
       "       [46154151.  , 68616520.  ,    10000.  ,       16.55,      354.3 ,     3199.4 ],\n",
       "       [66055249.  ,    10000.  ,    10000.  , 68616520.  ,      309.97,      301.9 ]])"
      ]
     },
     "execution_count": 11,
     "metadata": {},
     "output_type": "execute_result"
    }
   ],
   "source": [
    "load_data_numeric = np.genfromtxt(\"D:\\Data Analytics\\Data Analyst Course\\S28 - A Loan Data Example with NumPy\\loan-data.csv\",\n",
    "                         delimiter = ';',\n",
    "                         skip_header = 1,\n",
    "                         autostrip = True,\n",
    "                         usecols = columns_numeric,\n",
    "                         filling_values = filler_max)\n",
    "load_data_numeric"
   ]
  },
  {
   "cell_type": "code",
   "execution_count": 12,
   "id": "1438ac3b",
   "metadata": {},
   "outputs": [
    {
     "name": "stderr",
     "output_type": "stream",
     "text": [
      "C:\\Users\\hp\\AppData\\Local\\Temp\\ipykernel_33184\\4260647567.py:7: DeprecationWarning: `np.str` is a deprecated alias for the builtin `str`. To silence this warning, use `str` by itself. Doing this will not modify any behavior and is safe. If you specifically wanted the numpy scalar type, use `np.str_` here.\n",
      "Deprecated in NumPy 1.20; for more details and guidance: https://numpy.org/devdocs/release/1.20.0-notes.html#deprecations\n",
      "  dtype = np.str)\n"
     ]
    },
    {
     "data": {
      "text/plain": [
       "array(['id', 'issue_d', 'loan_amnt', 'loan_status', 'funded_amnt', 'term', 'int_rate',\n",
       "       'installment', 'grade', 'sub_grade', 'verification_status', 'url', 'addr_state',\n",
       "       'total_pymnt'], dtype='<U19')"
      ]
     },
     "execution_count": 12,
     "metadata": {},
     "output_type": "execute_result"
    }
   ],
   "source": [
    "#Now we have text and numeric data separatly \n",
    "#similarly we split the columns name having text type and numeric type differently\n",
    "columns_name_full = np.genfromtxt(\"D:\\Data Analytics\\Data Analyst Course\\S28 - A Loan Data Example with NumPy\\loan-data.csv\",\n",
    "                         delimiter = ';',\n",
    "                         skip_footer = raw_data.shape[0],\n",
    "                         autostrip = True,\n",
    "                         dtype = np.str)\n",
    "columns_name_full"
   ]
  },
  {
   "cell_type": "code",
   "execution_count": 13,
   "id": "12e51070",
   "metadata": {},
   "outputs": [],
   "source": [
    "header_strings, header_numeric = columns_name_full[columns_strings], columns_name_full[columns_numeric]"
   ]
  },
  {
   "cell_type": "code",
   "execution_count": 14,
   "id": "d659818f",
   "metadata": {},
   "outputs": [
    {
     "data": {
      "text/plain": [
       "array(['issue_d', 'loan_status', 'term', 'grade', 'sub_grade', 'verification_status', 'url',\n",
       "       'addr_state'], dtype='<U19')"
      ]
     },
     "execution_count": 14,
     "metadata": {},
     "output_type": "execute_result"
    }
   ],
   "source": [
    "header_strings"
   ]
  },
  {
   "cell_type": "code",
   "execution_count": 15,
   "id": "9e24a2bc",
   "metadata": {},
   "outputs": [
    {
     "data": {
      "text/plain": [
       "array(['id', 'loan_amnt', 'funded_amnt', 'int_rate', 'installment', 'total_pymnt'], dtype='<U19')"
      ]
     },
     "execution_count": 15,
     "metadata": {},
     "output_type": "execute_result"
    }
   ],
   "source": [
    "header_numeric"
   ]
  },
  {
   "cell_type": "code",
   "execution_count": 16,
   "id": "e2cf5267",
   "metadata": {},
   "outputs": [],
   "source": [
    "#here we create a checkpoint to store the progress of the dataset time to time.\n",
    "#define a function checkpoint\n",
    "def checkpoint(file_name, checkpoint_header, checkpoint_data):\n",
    "    np.savez(file_name, header = checkpoint_header, data = checkpoint_data)\n",
    "    checkpoint_var = np.load(file_name + \".npz\")\n",
    "    return(checkpoint_var)"
   ]
  },
  {
   "cell_type": "code",
   "execution_count": 17,
   "id": "63042247",
   "metadata": {},
   "outputs": [],
   "source": [
    "checkpoint_test = checkpoint(\"checkpoint-test\", header_strings, load_data_strings)"
   ]
  },
  {
   "cell_type": "code",
   "execution_count": 18,
   "id": "f862dd38",
   "metadata": {},
   "outputs": [
    {
     "data": {
      "text/plain": [
       "array(['issue_d', 'loan_status', 'term', 'grade', 'sub_grade', 'verification_status', 'url',\n",
       "       'addr_state'], dtype='<U19')"
      ]
     },
     "execution_count": 18,
     "metadata": {},
     "output_type": "execute_result"
    }
   ],
   "source": [
    "header_strings"
   ]
  },
  {
   "cell_type": "code",
   "execution_count": 19,
   "id": "a02bae69",
   "metadata": {},
   "outputs": [
    {
     "data": {
      "text/plain": [
       "array([['May-15', 'Current', '36 months', ..., 'Verified',\n",
       "        'https://www.lendingclub.com/browse/loanDetail.action?loan_id=48010226', 'CA'],\n",
       "       ['', 'Current', '36 months', ..., 'Source Verified',\n",
       "        'https://www.lendingclub.com/browse/loanDetail.action?loan_id=57693261', 'NY'],\n",
       "       ['Sep-15', 'Current', '36 months', ..., 'Verified',\n",
       "        'https://www.lendingclub.com/browse/loanDetail.action?loan_id=59432726', 'PA'],\n",
       "       ...,\n",
       "       ['Jun-15', 'Current', '36 months', ..., 'Source Verified',\n",
       "        'https://www.lendingclub.com/browse/loanDetail.action?loan_id=50415990', 'CA'],\n",
       "       ['Apr-15', 'Current', '36 months', ..., 'Source Verified',\n",
       "        'https://www.lendingclub.com/browse/loanDetail.action?loan_id=46154151', 'OH'],\n",
       "       ['Dec-15', 'Current', '36 months', ..., '',\n",
       "        'https://www.lendingclub.com/browse/loanDetail.action?loan_id=66055249', 'IL']],\n",
       "      dtype='<U69')"
      ]
     },
     "execution_count": 19,
     "metadata": {},
     "output_type": "execute_result"
    }
   ],
   "source": [
    "checkpoint_test['data']"
   ]
  },
  {
   "cell_type": "code",
   "execution_count": 20,
   "id": "1c117e00",
   "metadata": {},
   "outputs": [
    {
     "data": {
      "text/plain": [
       "array(['issue_d', 'loan_status', 'term', 'grade', 'sub_grade', 'verification_status', 'url',\n",
       "       'addr_state'], dtype='<U19')"
      ]
     },
     "execution_count": 20,
     "metadata": {},
     "output_type": "execute_result"
    }
   ],
   "source": [
    "checkpoint_test['header']"
   ]
  },
  {
   "cell_type": "code",
   "execution_count": 21,
   "id": "8146bbe5",
   "metadata": {},
   "outputs": [
    {
     "data": {
      "text/plain": [
       "True"
      ]
     },
     "execution_count": 21,
     "metadata": {},
     "output_type": "execute_result"
    }
   ],
   "source": [
    "np.array_equal(load_data_strings, checkpoint_test['data'])"
   ]
  },
  {
   "cell_type": "code",
   "execution_count": 22,
   "id": "cf05512b",
   "metadata": {},
   "outputs": [
    {
     "data": {
      "text/plain": [
       "array([['May-15', 'Current', '36 months', ..., 'Verified',\n",
       "        'https://www.lendingclub.com/browse/loanDetail.action?loan_id=48010226', 'CA'],\n",
       "       ['', 'Current', '36 months', ..., 'Source Verified',\n",
       "        'https://www.lendingclub.com/browse/loanDetail.action?loan_id=57693261', 'NY'],\n",
       "       ['Sep-15', 'Current', '36 months', ..., 'Verified',\n",
       "        'https://www.lendingclub.com/browse/loanDetail.action?loan_id=59432726', 'PA'],\n",
       "       ...,\n",
       "       ['Jun-15', 'Current', '36 months', ..., 'Source Verified',\n",
       "        'https://www.lendingclub.com/browse/loanDetail.action?loan_id=50415990', 'CA'],\n",
       "       ['Apr-15', 'Current', '36 months', ..., 'Source Verified',\n",
       "        'https://www.lendingclub.com/browse/loanDetail.action?loan_id=46154151', 'OH'],\n",
       "       ['Dec-15', 'Current', '36 months', ..., '',\n",
       "        'https://www.lendingclub.com/browse/loanDetail.action?loan_id=66055249', 'IL']],\n",
       "      dtype='<U69')"
      ]
     },
     "execution_count": 22,
     "metadata": {},
     "output_type": "execute_result"
    }
   ],
   "source": [
    "#manipulating the text data - issue_date\n",
    "load_data_strings"
   ]
  },
  {
   "cell_type": "code",
   "execution_count": 23,
   "id": "a11cdbe6",
   "metadata": {},
   "outputs": [
    {
     "data": {
      "text/plain": [
       "array(['May-15', '', 'Sep-15', ..., 'Jun-15', 'Apr-15', 'Dec-15'], dtype='<U69')"
      ]
     },
     "execution_count": 23,
     "metadata": {},
     "output_type": "execute_result"
    }
   ],
   "source": [
    "load_data_strings[:,0]"
   ]
  },
  {
   "cell_type": "code",
   "execution_count": 24,
   "id": "c926a643",
   "metadata": {},
   "outputs": [
    {
     "data": {
      "text/plain": [
       "array(['', 'Apr-15', 'Aug-15', 'Dec-15', 'Feb-15', 'Jan-15', 'Jul-15', 'Jun-15', 'Mar-15',\n",
       "       'May-15', 'Nov-15', 'Oct-15', 'Sep-15'], dtype='<U69')"
      ]
     },
     "execution_count": 24,
     "metadata": {},
     "output_type": "execute_result"
    }
   ],
   "source": [
    "#extract unique issue_date\n",
    "np.unique(load_data_strings[:,0])"
   ]
  },
  {
   "cell_type": "code",
   "execution_count": 25,
   "id": "2e7d5f96",
   "metadata": {},
   "outputs": [],
   "source": [
    "#pull out the text type(month) from issue_date \n",
    "load_data_strings[:,0] = np.chararray.strip(load_data_strings[:,0], \"-15\")"
   ]
  },
  {
   "cell_type": "code",
   "execution_count": 26,
   "id": "8a11caeb",
   "metadata": {},
   "outputs": [
    {
     "data": {
      "text/plain": [
       "array([['May', 'Current', '36 months', ..., 'Verified',\n",
       "        'https://www.lendingclub.com/browse/loanDetail.action?loan_id=48010226', 'CA'],\n",
       "       ['', 'Current', '36 months', ..., 'Source Verified',\n",
       "        'https://www.lendingclub.com/browse/loanDetail.action?loan_id=57693261', 'NY'],\n",
       "       ['Sep', 'Current', '36 months', ..., 'Verified',\n",
       "        'https://www.lendingclub.com/browse/loanDetail.action?loan_id=59432726', 'PA'],\n",
       "       ...,\n",
       "       ['Jun', 'Current', '36 months', ..., 'Source Verified',\n",
       "        'https://www.lendingclub.com/browse/loanDetail.action?loan_id=50415990', 'CA'],\n",
       "       ['Apr', 'Current', '36 months', ..., 'Source Verified',\n",
       "        'https://www.lendingclub.com/browse/loanDetail.action?loan_id=46154151', 'OH'],\n",
       "       ['Dec', 'Current', '36 months', ..., '',\n",
       "        'https://www.lendingclub.com/browse/loanDetail.action?loan_id=66055249', 'IL']],\n",
       "      dtype='<U69')"
      ]
     },
     "execution_count": 26,
     "metadata": {},
     "output_type": "execute_result"
    }
   ],
   "source": [
    "load_data_strings"
   ]
  },
  {
   "cell_type": "code",
   "execution_count": 27,
   "id": "84bcc940",
   "metadata": {},
   "outputs": [
    {
     "data": {
      "text/plain": [
       "array(['', 'Apr', 'Aug', 'Dec', 'Feb', 'Jan', 'Jul', 'Jun', 'Mar', 'May', 'Nov', 'Oct', 'Sep'],\n",
       "      dtype='<U69')"
      ]
     },
     "execution_count": 27,
     "metadata": {},
     "output_type": "execute_result"
    }
   ],
   "source": [
    "np.unique(load_data_strings[:,0])\n"
   ]
  },
  {
   "cell_type": "code",
   "execution_count": 28,
   "id": "9fbc538d",
   "metadata": {},
   "outputs": [],
   "source": [
    "months = np.array(['', 'Jan', 'Feb', 'Mar', 'Apr', 'May', 'Jun', 'Jul', 'Aug', 'Sep', 'Oct', 'Nov', 'Dec'])"
   ]
  },
  {
   "cell_type": "code",
   "execution_count": 29,
   "id": "a93512d0",
   "metadata": {},
   "outputs": [],
   "source": [
    "#replacing the month text type with the integers \n",
    "for i in range(13):\n",
    "    load_data_strings[:,0] = np.where(load_data_strings[:,0] == months[i], i, load_data_strings[:,0])    "
   ]
  },
  {
   "cell_type": "code",
   "execution_count": 30,
   "id": "cd53f7c5",
   "metadata": {},
   "outputs": [
    {
     "data": {
      "text/plain": [
       "array(['0', '1', '10', '11', '12', '2', '3', '4', '5', '6', '7', '8', '9'], dtype='<U69')"
      ]
     },
     "execution_count": 30,
     "metadata": {},
     "output_type": "execute_result"
    }
   ],
   "source": [
    "np.unique(load_data_strings[:,0])"
   ]
  },
  {
   "cell_type": "code",
   "execution_count": 31,
   "id": "f3fb9fc3",
   "metadata": {},
   "outputs": [
    {
     "data": {
      "text/plain": [
       "array(['Current', 'Current', 'Current', ..., 'Current', 'Current', 'Current'], dtype='<U69')"
      ]
     },
     "execution_count": 31,
     "metadata": {},
     "output_type": "execute_result"
    }
   ],
   "source": [
    "#manipulating the second column from load_data_strings - loan_status\n",
    "#organize the elements of loan_status into good and bad practices \n",
    "#good practices (denotes '1') includes - Fully Paid, In Grace Period, Issued, Late (16-30 days) where \n",
    "#bad practices (denotes '0') includes - Charged Off, Current, Default, Late (31-120 days)\n",
    "load_data_strings[:,1]"
   ]
  },
  {
   "cell_type": "code",
   "execution_count": 32,
   "id": "1740355d",
   "metadata": {},
   "outputs": [
    {
     "data": {
      "text/plain": [
       "array(['', 'Charged Off', 'Current', 'Default', 'Fully Paid', 'In Grace Period', 'Issued',\n",
       "       'Late (16-30 days)', 'Late (31-120 days)'], dtype='<U69')"
      ]
     },
     "execution_count": 32,
     "metadata": {},
     "output_type": "execute_result"
    }
   ],
   "source": [
    "np.unique(load_data_strings[:,1])"
   ]
  },
  {
   "cell_type": "code",
   "execution_count": 33,
   "id": "4a688386",
   "metadata": {},
   "outputs": [
    {
     "data": {
      "text/plain": [
       "9"
      ]
     },
     "execution_count": 33,
     "metadata": {},
     "output_type": "execute_result"
    }
   ],
   "source": [
    "np.unique(load_data_strings[:,1]).size"
   ]
  },
  {
   "cell_type": "code",
   "execution_count": 34,
   "id": "04feef07",
   "metadata": {},
   "outputs": [],
   "source": [
    "status_bad = np.array(['', 'Charged Off', 'Default', 'Late (31-120 days)'])"
   ]
  },
  {
   "cell_type": "code",
   "execution_count": 35,
   "id": "21f7bb6d",
   "metadata": {},
   "outputs": [],
   "source": [
    "load_data_strings[:,1] = np.where(np.isin(load_data_strings[:,1], status_bad), 0, 1)"
   ]
  },
  {
   "cell_type": "code",
   "execution_count": 36,
   "id": "5a1ef795",
   "metadata": {},
   "outputs": [
    {
     "data": {
      "text/plain": [
       "array(['0', '1'], dtype='<U69')"
      ]
     },
     "execution_count": 36,
     "metadata": {},
     "output_type": "execute_result"
    }
   ],
   "source": [
    "np.unique(load_data_strings[:,1])"
   ]
  },
  {
   "cell_type": "code",
   "execution_count": 37,
   "id": "8dad22e3",
   "metadata": {},
   "outputs": [
    {
     "data": {
      "text/plain": [
       "array(['36 months', '36 months', '36 months', ..., '36 months', '36 months', '36 months'],\n",
       "      dtype='<U69')"
      ]
     },
     "execution_count": 37,
     "metadata": {},
     "output_type": "execute_result"
    }
   ],
   "source": [
    "#working on third column from load_data_strings - term \n",
    "load_data_strings[:,2]"
   ]
  },
  {
   "cell_type": "code",
   "execution_count": 38,
   "id": "a2841642",
   "metadata": {},
   "outputs": [
    {
     "data": {
      "text/plain": [
       "array(['', '36 months', '60 months'], dtype='<U69')"
      ]
     },
     "execution_count": 38,
     "metadata": {},
     "output_type": "execute_result"
    }
   ],
   "source": [
    "np.unique(load_data_strings[:,2])"
   ]
  },
  {
   "cell_type": "code",
   "execution_count": 39,
   "id": "685795fb",
   "metadata": {},
   "outputs": [
    {
     "data": {
      "text/plain": [
       "array(['36', '36', '36', ..., '36', '36', '36'], dtype='<U69')"
      ]
     },
     "execution_count": 39,
     "metadata": {},
     "output_type": "execute_result"
    }
   ],
   "source": [
    "#split text and numeric separatly \n",
    "load_data_strings[:,2] = np.chararray.strip(load_data_strings[:,2], \" months\")\n",
    "load_data_strings[:,2]"
   ]
  },
  {
   "cell_type": "code",
   "execution_count": 40,
   "id": "987d2095",
   "metadata": {},
   "outputs": [
    {
     "data": {
      "text/plain": [
       "array(['36', '36', '36', ..., '36', '36', '36'], dtype='<U69')"
      ]
     },
     "execution_count": 40,
     "metadata": {},
     "output_type": "execute_result"
    }
   ],
   "source": [
    "#replace empty data ('') with value 60\n",
    "load_data_strings[:,2] = np.where(load_data_strings[:,2] == '', 60, load_data_strings[:,2])\n",
    "load_data_strings[:,2]"
   ]
  },
  {
   "cell_type": "code",
   "execution_count": 41,
   "id": "8eaa3cd5",
   "metadata": {},
   "outputs": [
    {
     "data": {
      "text/plain": [
       "array(['36', '60'], dtype='<U69')"
      ]
     },
     "execution_count": 41,
     "metadata": {},
     "output_type": "execute_result"
    }
   ],
   "source": [
    "np.unique(load_data_strings[:,2])"
   ]
  },
  {
   "cell_type": "code",
   "execution_count": 42,
   "id": "b1b6a2f1",
   "metadata": {},
   "outputs": [
    {
     "data": {
      "text/plain": [
       "array(['', 'A', 'B', 'C', 'D', 'E', 'F', 'G'], dtype='<U69')"
      ]
     },
     "execution_count": 42,
     "metadata": {},
     "output_type": "execute_result"
    }
   ],
   "source": [
    "#now we manipulate the data from grade and subgrade columns of the dataset\n",
    "np.unique(load_data_strings[:,3])"
   ]
  },
  {
   "cell_type": "code",
   "execution_count": 43,
   "id": "4b89a222",
   "metadata": {},
   "outputs": [
    {
     "data": {
      "text/plain": [
       "array(['', 'A1', 'A2', 'A3', 'A4', 'A5', 'B1', 'B2', 'B3', 'B4', 'B5', 'C1', 'C2', 'C3', 'C4',\n",
       "       'C5', 'D1', 'D2', 'D3', 'D4', 'D5', 'E1', 'E2', 'E3', 'E4', 'E5', 'F1', 'F2', 'F3', 'F4',\n",
       "       'F5', 'G1', 'G2', 'G3', 'G4', 'G5'], dtype='<U69')"
      ]
     },
     "execution_count": 43,
     "metadata": {},
     "output_type": "execute_result"
    }
   ],
   "source": [
    "np.unique(load_data_strings[:,4])"
   ]
  },
  {
   "cell_type": "code",
   "execution_count": 44,
   "id": "007b5fef",
   "metadata": {},
   "outputs": [],
   "source": [
    "#now replacing all missing values with the highest value in particular section like with A5 etc\n",
    "for i in np.unique(load_data_strings[:,3])[1:]:\n",
    "    load_data_strings[:,4] = np.where((load_data_strings[:,4] == '') & (load_data_strings[:,3] == i),\n",
    "                                      i + '5',\n",
    "                                      load_data_strings[:,4])"
   ]
  },
  {
   "cell_type": "code",
   "execution_count": 45,
   "id": "5efeae24",
   "metadata": {},
   "outputs": [
    {
     "data": {
      "text/plain": [
       "(array(['', 'A1', 'A2', 'A3', 'A4', 'A5', 'B1', 'B2', 'B3', 'B4', 'B5', 'C1', 'C2', 'C3', 'C4',\n",
       "        'C5', 'D1', 'D2', 'D3', 'D4', 'D5', 'E1', 'E2', 'E3', 'E4', 'E5', 'F1', 'F2', 'F3', 'F4',\n",
       "        'F5', 'G1', 'G2', 'G3', 'G4', 'G5'], dtype='<U69'),\n",
       " array([  9, 285, 278, 239, 323, 592, 509, 517, 530, 553, 633, 629, 567, 586, 564, 577, 391, 267,\n",
       "        250, 255, 288, 235, 162, 171, 139, 160,  94,  52,  34,  43,  24,  19,  10,   3,   7,   5],\n",
       "       dtype=int64))"
      ]
     },
     "execution_count": 45,
     "metadata": {},
     "output_type": "execute_result"
    }
   ],
   "source": [
    "np.unique(load_data_strings[:,4], return_counts = True)"
   ]
  },
  {
   "cell_type": "code",
   "execution_count": 46,
   "id": "51492fd1",
   "metadata": {},
   "outputs": [],
   "source": [
    "load_data_strings[:,4] = np.where(load_data_strings[:,4] == '5',\n",
    "                                      'H1',\n",
    "                                      load_data_strings[:,4])"
   ]
  },
  {
   "cell_type": "code",
   "execution_count": 47,
   "id": "ab005945",
   "metadata": {},
   "outputs": [
    {
     "data": {
      "text/plain": [
       "array(['', 'A1', 'A2', 'A3', 'A4', 'A5', 'B1', 'B2', 'B3', 'B4', 'B5', 'C1', 'C2', 'C3', 'C4',\n",
       "       'C5', 'D1', 'D2', 'D3', 'D4', 'D5', 'E1', 'E2', 'E3', 'E4', 'E5', 'F1', 'F2', 'F3', 'F4',\n",
       "       'F5', 'G1', 'G2', 'G3', 'G4', 'G5'], dtype='<U69')"
      ]
     },
     "execution_count": 47,
     "metadata": {},
     "output_type": "execute_result"
    }
   ],
   "source": [
    "np.unique(load_data_strings[:,4])"
   ]
  },
  {
   "cell_type": "code",
   "execution_count": 48,
   "id": "2ea1156b",
   "metadata": {},
   "outputs": [],
   "source": [
    "#removing grade column from the dataset \n",
    "load_data_strings = np.delete(load_data_strings, 3, axis = 1)"
   ]
  },
  {
   "cell_type": "code",
   "execution_count": 49,
   "id": "784d351b",
   "metadata": {},
   "outputs": [
    {
     "data": {
      "text/plain": [
       "array(['C3', 'A5', 'B5', ..., 'A5', 'D2', 'A4'], dtype='<U69')"
      ]
     },
     "execution_count": 49,
     "metadata": {},
     "output_type": "execute_result"
    }
   ],
   "source": [
    "load_data_strings[:,3]"
   ]
  },
  {
   "cell_type": "code",
   "execution_count": 50,
   "id": "3b01931f",
   "metadata": {},
   "outputs": [],
   "source": [
    "header_strings = np.delete(header_strings, 3)"
   ]
  },
  {
   "cell_type": "code",
   "execution_count": 51,
   "id": "eefc336f",
   "metadata": {},
   "outputs": [
    {
     "data": {
      "text/plain": [
       "array(['issue_d', 'loan_status', 'term', 'sub_grade', 'verification_status', 'url', 'addr_state'],\n",
       "      dtype='<U19')"
      ]
     },
     "execution_count": 51,
     "metadata": {},
     "output_type": "execute_result"
    }
   ],
   "source": [
    "header_strings"
   ]
  },
  {
   "cell_type": "code",
   "execution_count": 52,
   "id": "062d1430",
   "metadata": {},
   "outputs": [
    {
     "data": {
      "text/plain": [
       "array(['', 'A1', 'A2', 'A3', 'A4', 'A5', 'B1', 'B2', 'B3', 'B4', 'B5', 'C1', 'C2', 'C3', 'C4',\n",
       "       'C5', 'D1', 'D2', 'D3', 'D4', 'D5', 'E1', 'E2', 'E3', 'E4', 'E5', 'F1', 'F2', 'F3', 'F4',\n",
       "       'F5', 'G1', 'G2', 'G3', 'G4', 'G5'], dtype='<U69')"
      ]
     },
     "execution_count": 52,
     "metadata": {},
     "output_type": "execute_result"
    }
   ],
   "source": [
    "#now we replace the subgrade alphabetically text with integers values \n",
    "np.unique(load_data_strings[:,3])"
   ]
  },
  {
   "cell_type": "code",
   "execution_count": 53,
   "id": "63fa865d",
   "metadata": {},
   "outputs": [],
   "source": [
    "keys = list(np.unique(load_data_strings[:,3]))\n",
    "values = list(range(1, np.unique(load_data_strings[:,3]).shape[0] + 1))\n",
    "dict_grade = dict(zip(keys, values))"
   ]
  },
  {
   "cell_type": "code",
   "execution_count": 54,
   "id": "2bba291f",
   "metadata": {},
   "outputs": [
    {
     "data": {
      "text/plain": [
       "{'': 1,\n",
       " 'A1': 2,\n",
       " 'A2': 3,\n",
       " 'A3': 4,\n",
       " 'A4': 5,\n",
       " 'A5': 6,\n",
       " 'B1': 7,\n",
       " 'B2': 8,\n",
       " 'B3': 9,\n",
       " 'B4': 10,\n",
       " 'B5': 11,\n",
       " 'C1': 12,\n",
       " 'C2': 13,\n",
       " 'C3': 14,\n",
       " 'C4': 15,\n",
       " 'C5': 16,\n",
       " 'D1': 17,\n",
       " 'D2': 18,\n",
       " 'D3': 19,\n",
       " 'D4': 20,\n",
       " 'D5': 21,\n",
       " 'E1': 22,\n",
       " 'E2': 23,\n",
       " 'E3': 24,\n",
       " 'E4': 25,\n",
       " 'E5': 26,\n",
       " 'F1': 27,\n",
       " 'F2': 28,\n",
       " 'F3': 29,\n",
       " 'F4': 30,\n",
       " 'F5': 31,\n",
       " 'G1': 32,\n",
       " 'G2': 33,\n",
       " 'G3': 34,\n",
       " 'G4': 35,\n",
       " 'G5': 36}"
      ]
     },
     "execution_count": 54,
     "metadata": {},
     "output_type": "execute_result"
    }
   ],
   "source": [
    "dict_grade"
   ]
  },
  {
   "cell_type": "code",
   "execution_count": 55,
   "id": "71f78dae",
   "metadata": {},
   "outputs": [],
   "source": [
    "for i in np.unique(load_data_strings[:,3]):\n",
    "    load_data_strings[:,3] = np.where(load_data_strings[:,3]==i,\n",
    "                                     dict_grade[i],\n",
    "                                     load_data_strings[:,3])"
   ]
  },
  {
   "cell_type": "code",
   "execution_count": 56,
   "id": "1b7df75b",
   "metadata": {},
   "outputs": [
    {
     "data": {
      "text/plain": [
       "array(['1', '10', '11', '12', '13', '14', '15', '16', '17', '18', '19', '2', '20', '21', '22',\n",
       "       '23', '24', '25', '26', '27', '28', '29', '3', '30', '31', '32', '33', '34', '35', '36',\n",
       "       '4', '5', '6', '7', '8', '9'], dtype='<U69')"
      ]
     },
     "execution_count": 56,
     "metadata": {},
     "output_type": "execute_result"
    }
   ],
   "source": [
    "np.unique(load_data_strings[:,3])"
   ]
  },
  {
   "cell_type": "code",
   "execution_count": 57,
   "id": "a7994447",
   "metadata": {},
   "outputs": [
    {
     "data": {
      "text/plain": [
       "array(['Verified', 'Source Verified', 'Verified', ..., 'Source Verified', 'Source Verified', ''],\n",
       "      dtype='<U69')"
      ]
     },
     "execution_count": 57,
     "metadata": {},
     "output_type": "execute_result"
    }
   ],
   "source": [
    "#now forward by manipulating the verification_status column\n",
    "load_data_strings[:,4]"
   ]
  },
  {
   "cell_type": "code",
   "execution_count": 58,
   "id": "28cdf760",
   "metadata": {},
   "outputs": [
    {
     "data": {
      "text/plain": [
       "array(['', 'Not Verified', 'Source Verified', 'Verified'], dtype='<U69')"
      ]
     },
     "execution_count": 58,
     "metadata": {},
     "output_type": "execute_result"
    }
   ],
   "source": [
    "np.unique(load_data_strings[:,4])"
   ]
  },
  {
   "cell_type": "code",
   "execution_count": 59,
   "id": "8f9320d2",
   "metadata": {},
   "outputs": [],
   "source": [
    "#here we take '' as a Not Verified and other as same\n",
    "load_data_strings[:,4] = np.where((load_data_strings[:,4] == '') | (load_data_strings[:,4] == 'Not Verified'), 0 , 1)"
   ]
  },
  {
   "cell_type": "code",
   "execution_count": 60,
   "id": "421f1ad5",
   "metadata": {},
   "outputs": [
    {
     "data": {
      "text/plain": [
       "array(['0', '1'], dtype='<U69')"
      ]
     },
     "execution_count": 60,
     "metadata": {},
     "output_type": "execute_result"
    }
   ],
   "source": [
    "np.unique(load_data_strings[:,4])"
   ]
  },
  {
   "cell_type": "code",
   "execution_count": 61,
   "id": "d1f4ce10",
   "metadata": {},
   "outputs": [
    {
     "data": {
      "text/plain": [
       "array(['https://www.lendingclub.com/browse/loanDetail.action?loan_id=48010226',\n",
       "       'https://www.lendingclub.com/browse/loanDetail.action?loan_id=57693261',\n",
       "       'https://www.lendingclub.com/browse/loanDetail.action?loan_id=59432726', ...,\n",
       "       'https://www.lendingclub.com/browse/loanDetail.action?loan_id=50415990',\n",
       "       'https://www.lendingclub.com/browse/loanDetail.action?loan_id=46154151',\n",
       "       'https://www.lendingclub.com/browse/loanDetail.action?loan_id=66055249'], dtype='<U69')"
      ]
     },
     "execution_count": 61,
     "metadata": {},
     "output_type": "execute_result"
    }
   ],
   "source": [
    "#take a look into another column named URL and analyze it\n",
    "load_data_strings[:,5]"
   ]
  },
  {
   "cell_type": "code",
   "execution_count": 62,
   "id": "a3e90922",
   "metadata": {},
   "outputs": [
    {
     "data": {
      "text/plain": [
       "array(['48010226', '57693261', '59432726', ..., '50415990', '46154151', '66055249'], dtype='<U69')"
      ]
     },
     "execution_count": 62,
     "metadata": {},
     "output_type": "execute_result"
    }
   ],
   "source": [
    "#remove common text from the url\n",
    "load_data_strings[:,5] = np.chararray.strip(load_data_strings[:,5], \"https://www.lendingclub.com/browse/loanDetail.action?loan_id=\")\n",
    "load_data_strings[:,5]"
   ]
  },
  {
   "cell_type": "code",
   "execution_count": 63,
   "id": "1b997a10",
   "metadata": {},
   "outputs": [
    {
     "data": {
      "text/plain": [
       "array(['id', 'issue_d', 'loan_amnt', 'loan_status', 'funded_amnt', 'term', 'int_rate',\n",
       "       'installment', 'grade', 'sub_grade', 'verification_status', 'url', 'addr_state',\n",
       "       'total_pymnt'], dtype='<U19')"
      ]
     },
     "execution_count": 63,
     "metadata": {},
     "output_type": "execute_result"
    }
   ],
   "source": [
    "#take a look into ID column\n",
    "columns_name_full"
   ]
  },
  {
   "cell_type": "code",
   "execution_count": 64,
   "id": "04106c58",
   "metadata": {},
   "outputs": [
    {
     "data": {
      "text/plain": [
       "array([48010226, 57693261, 59432726, ..., 50415990, 46154151, 66055249])"
      ]
     },
     "execution_count": 64,
     "metadata": {},
     "output_type": "execute_result"
    }
   ],
   "source": [
    "load_data_numeric[:,0].astype(dtype = np.int32)"
   ]
  },
  {
   "cell_type": "code",
   "execution_count": 65,
   "id": "333cf153",
   "metadata": {},
   "outputs": [
    {
     "data": {
      "text/plain": [
       "array([48010226, 57693261, 59432726, ..., 50415990, 46154151, 66055249])"
      ]
     },
     "execution_count": 65,
     "metadata": {},
     "output_type": "execute_result"
    }
   ],
   "source": [
    "load_data_strings[:,5].astype(dtype = np.int32)"
   ]
  },
  {
   "cell_type": "code",
   "execution_count": 66,
   "id": "2692d5ce",
   "metadata": {},
   "outputs": [
    {
     "data": {
      "text/plain": [
       "True"
      ]
     },
     "execution_count": 66,
     "metadata": {},
     "output_type": "execute_result"
    }
   ],
   "source": [
    "np.array_equal(load_data_numeric[:,0].astype(dtype = np.int32), load_data_strings[:,5].astype(dtype = np.int32))"
   ]
  },
  {
   "cell_type": "code",
   "execution_count": 67,
   "id": "02f95d98",
   "metadata": {},
   "outputs": [
    {
     "data": {
      "text/plain": [
       "array(['CA', 'NY', 'PA', ..., 'CA', 'OH', 'IL'], dtype='<U69')"
      ]
     },
     "execution_count": 67,
     "metadata": {},
     "output_type": "execute_result"
    }
   ],
   "source": [
    "#working with the state address and sor \n",
    "load_data_strings[:,6]"
   ]
  },
  {
   "cell_type": "code",
   "execution_count": 68,
   "id": "36638378",
   "metadata": {},
   "outputs": [
    {
     "data": {
      "text/plain": [
       "array(['', 'AK', 'AL', 'AR', 'AZ', 'CA', 'CO', 'CT', 'DC', 'DE', 'FL', 'GA', 'HI', 'IL', 'IN',\n",
       "       'KS', 'KY', 'LA', 'MA', 'MD', 'ME', 'MI', 'MN', 'MO', 'MS', 'MT', 'NC', 'ND', 'NE', 'NH',\n",
       "       'NJ', 'NM', 'NV', 'NY', 'OH', 'OK', 'OR', 'PA', 'RI', 'SC', 'SD', 'TN', 'TX', 'UT', 'VA',\n",
       "       'VT', 'WA', 'WI', 'WV', 'WY'], dtype='<U69')"
      ]
     },
     "execution_count": 68,
     "metadata": {},
     "output_type": "execute_result"
    }
   ],
   "source": [
    "np.unique(load_data_strings[:,6])"
   ]
  },
  {
   "cell_type": "code",
   "execution_count": 69,
   "id": "8b5987f2",
   "metadata": {},
   "outputs": [
    {
     "data": {
      "text/plain": [
       "array(['', 'AK', 'AL', 'AR', 'AZ', 'CA', 'CO', 'CT', 'DC', 'DE', 'FL', 'GA', 'HI', 'IL', 'IN',\n",
       "       'KS', 'KY', 'LA', 'MA', 'MD', 'ME', 'MI', 'MN', 'MO', 'MS', 'MT', 'NC', 'ND', 'NE', 'NH',\n",
       "       'NJ', 'NM', 'NV', 'NY', 'OH', 'OK', 'OR', 'PA', 'RI', 'SC', 'SD', 'TN', 'TX', 'UT', 'VA',\n",
       "       'VT', 'WA', 'WI', 'WV', 'WY'], dtype='<U69')"
      ]
     },
     "execution_count": 69,
     "metadata": {},
     "output_type": "execute_result"
    }
   ],
   "source": [
    "np.sort(np.unique(load_data_strings[:,6]))"
   ]
  },
  {
   "cell_type": "code",
   "execution_count": 70,
   "id": "e357a2aa",
   "metadata": {},
   "outputs": [
    {
     "data": {
      "text/plain": [
       "(array(['CA', 'NY', 'TX', 'FL', '', 'IL', 'NJ', 'GA', 'PA', 'OH', 'MI', 'NC', 'VA', 'MD', 'AZ',\n",
       "        'WA', 'MA', 'CO', 'MO', 'MN', 'IN', 'WI', 'CT', 'TN', 'NV', 'AL', 'LA', 'OR', 'SC', 'KY',\n",
       "        'KS', 'OK', 'UT', 'AR', 'MS', 'NH', 'NM', 'WV', 'HI', 'RI', 'MT', 'DE', 'DC', 'WY', 'AK',\n",
       "        'NE', 'SD', 'VT', 'ND', 'ME'], dtype='<U69'),\n",
       " array([1336,  777,  758,  690,  500,  389,  341,  321,  320,  312,  267,  261,  242,  222,  220,\n",
       "         216,  210,  201,  160,  156,  152,  148,  143,  143,  130,  119,  116,  108,  107,   84,\n",
       "          84,   83,   74,   74,   61,   58,   57,   49,   44,   40,   28,   27,   27,   27,   26,\n",
       "          25,   24,   17,   16,   10], dtype=int64))"
      ]
     },
     "execution_count": 70,
     "metadata": {},
     "output_type": "execute_result"
    }
   ],
   "source": [
    "states_name, states_counts = np.unique(load_data_strings[:,6], return_counts = True)\n",
    "states_count_sorted = np.argsort(-states_counts)\n",
    "states_name[states_count_sorted], states_counts[states_count_sorted]"
   ]
  },
  {
   "cell_type": "code",
   "execution_count": 71,
   "id": "f65a9083",
   "metadata": {},
   "outputs": [
    {
     "data": {
      "text/plain": [
       "array(['0', 'AK', 'AL', 'AR', 'AZ', 'CA', 'CO', 'CT', 'DC', 'DE', 'FL', 'GA', 'HI', 'IL', 'IN',\n",
       "       'KS', 'KY', 'LA', 'MA', 'MD', 'ME', 'MI', 'MN', 'MO', 'MS', 'MT', 'NC', 'ND', 'NE', 'NH',\n",
       "       'NJ', 'NM', 'NV', 'NY', 'OH', 'OK', 'OR', 'PA', 'RI', 'SC', 'SD', 'TN', 'TX', 'UT', 'VA',\n",
       "       'VT', 'WA', 'WI', 'WV', 'WY'], dtype='<U69')"
      ]
     },
     "execution_count": 71,
     "metadata": {},
     "output_type": "execute_result"
    }
   ],
   "source": [
    "load_data_strings[:,6] = np.where(load_data_strings[:,6] == '', 0, load_data_strings[:,6])\n",
    "np.unique(load_data_strings[:,6])"
   ]
  },
  {
   "cell_type": "code",
   "execution_count": 72,
   "id": "083a4bcd",
   "metadata": {},
   "outputs": [],
   "source": [
    "#refer this link for more explaination: https://www2.census.gov/geo/pdfs/maps-data/maps/reference/us_regdiv.pdf\n",
    "#here we catergorize the state name according zone wise in the integer form \n",
    "#like states present in states_west zone denoted by '1' and similarly for others \n",
    "states_west = np.array(['WA', 'OR','CA','NV','ID','MT', 'WY','UT','CO', 'AZ','NM','HI','AK'])\n",
    "states_south = np.array(['TX','OK','AR','LA','MS','AL','TN','KY','FL','GA','SC','NC','VA','WV','MD','DE','DC'])\n",
    "states_midwest = np.array(['ND','SD','NE','KS','MN','IA','MO','WI','IL','IN','MI','OH'])\n",
    "states_east = np.array(['PA','NY','NJ','CT','MA','VT','NH','ME','RI'])"
   ]
  },
  {
   "cell_type": "code",
   "execution_count": 73,
   "id": "af692b68",
   "metadata": {},
   "outputs": [],
   "source": [
    "load_data_strings[:,6] = np.where(np.isin(load_data_strings[:,6], states_west), 1, load_data_strings[:,6])\n",
    "load_data_strings[:,6] = np.where(np.isin(load_data_strings[:,6], states_south), 2, load_data_strings[:,6])\n",
    "load_data_strings[:,6] = np.where(np.isin(load_data_strings[:,6], states_midwest), 3, load_data_strings[:,6])\n",
    "load_data_strings[:,6] = np.where(np.isin(load_data_strings[:,6], states_east), 4, load_data_strings[:,6])"
   ]
  },
  {
   "cell_type": "code",
   "execution_count": 74,
   "id": "48d89ae6",
   "metadata": {},
   "outputs": [
    {
     "data": {
      "text/plain": [
       "array(['0', '1', '2', '3', '4'], dtype='<U69')"
      ]
     },
     "execution_count": 74,
     "metadata": {},
     "output_type": "execute_result"
    }
   ],
   "source": [
    "np.unique(load_data_strings[:,6])"
   ]
  },
  {
   "cell_type": "code",
   "execution_count": 75,
   "id": "f37fa71e",
   "metadata": {},
   "outputs": [
    {
     "data": {
      "text/plain": [
       "array([['5', '1', '36', ..., '1', '48010226', '1'],\n",
       "       ['0', '1', '36', ..., '1', '57693261', '4'],\n",
       "       ['9', '1', '36', ..., '1', '59432726', '4'],\n",
       "       ...,\n",
       "       ['6', '1', '36', ..., '1', '50415990', '1'],\n",
       "       ['4', '1', '36', ..., '1', '46154151', '3'],\n",
       "       ['12', '1', '36', ..., '0', '66055249', '3']], dtype='<U69')"
      ]
     },
     "execution_count": 75,
     "metadata": {},
     "output_type": "execute_result"
    }
   ],
   "source": [
    "#let's check full dataset and its type now\n",
    "load_data_strings"
   ]
  },
  {
   "cell_type": "code",
   "execution_count": 76,
   "id": "51110d36",
   "metadata": {},
   "outputs": [
    {
     "data": {
      "text/plain": [
       "array([[       5,        1,       36, ...,        1, 48010226,        1],\n",
       "       [       0,        1,       36, ...,        1, 57693261,        4],\n",
       "       [       9,        1,       36, ...,        1, 59432726,        4],\n",
       "       ...,\n",
       "       [       6,        1,       36, ...,        1, 50415990,        1],\n",
       "       [       4,        1,       36, ...,        1, 46154151,        3],\n",
       "       [      12,        1,       36, ...,        0, 66055249,        3]])"
      ]
     },
     "execution_count": 76,
     "metadata": {},
     "output_type": "execute_result"
    }
   ],
   "source": [
    "#datatype is string \n",
    "#convert the string data type into numbers \n",
    "load_data_strings = load_data_strings.astype(dtype = np.int32)\n",
    "load_data_strings"
   ]
  },
  {
   "cell_type": "code",
   "execution_count": 77,
   "id": "3d9a1f5d",
   "metadata": {},
   "outputs": [],
   "source": [
    "#here we can see all data now in integer \n",
    "#and the id and url columns are same so we can delete url column as required"
   ]
  },
  {
   "cell_type": "code",
   "execution_count": 78,
   "id": "81bb4876",
   "metadata": {},
   "outputs": [],
   "source": [
    "#checkpoint for strings \n",
    "checkpoint_strings = checkpoint(\"checkpoint-strings\", header_strings, load_data_strings)"
   ]
  },
  {
   "cell_type": "code",
   "execution_count": 79,
   "id": "e693e330",
   "metadata": {},
   "outputs": [
    {
     "data": {
      "text/plain": [
       "array(['issue_d', 'loan_status', 'term', 'sub_grade', 'verification_status', 'url', 'addr_state'],\n",
       "      dtype='<U19')"
      ]
     },
     "execution_count": 79,
     "metadata": {},
     "output_type": "execute_result"
    }
   ],
   "source": [
    "checkpoint_strings[\"header\"]"
   ]
  },
  {
   "cell_type": "code",
   "execution_count": 80,
   "id": "4ff08fdc",
   "metadata": {},
   "outputs": [
    {
     "data": {
      "text/plain": [
       "array([[       5,        1,       36, ...,        1, 48010226,        1],\n",
       "       [       0,        1,       36, ...,        1, 57693261,        4],\n",
       "       [       9,        1,       36, ...,        1, 59432726,        4],\n",
       "       ...,\n",
       "       [       6,        1,       36, ...,        1, 50415990,        1],\n",
       "       [       4,        1,       36, ...,        1, 46154151,        3],\n",
       "       [      12,        1,       36, ...,        0, 66055249,        3]])"
      ]
     },
     "execution_count": 80,
     "metadata": {},
     "output_type": "execute_result"
    }
   ],
   "source": [
    "checkpoint_strings[\"data\"]"
   ]
  },
  {
   "cell_type": "code",
   "execution_count": 81,
   "id": "02496405",
   "metadata": {},
   "outputs": [
    {
     "data": {
      "text/plain": [
       "True"
      ]
     },
     "execution_count": 81,
     "metadata": {},
     "output_type": "execute_result"
    }
   ],
   "source": [
    "np.array_equal(load_data_strings, checkpoint_strings[\"data\"])"
   ]
  },
  {
   "cell_type": "code",
   "execution_count": 82,
   "id": "2f1bb765",
   "metadata": {},
   "outputs": [
    {
     "data": {
      "text/plain": [
       "array([[48010226.  ,    35000.  ,    35000.  ,       13.33,     1184.86,     9452.96],\n",
       "       [57693261.  ,    30000.  ,    30000.  , 68616520.  ,      938.57,     4679.7 ],\n",
       "       [59432726.  ,    15000.  ,    15000.  , 68616520.  ,      494.86,     1969.83],\n",
       "       ...,\n",
       "       [50415990.  ,    10000.  ,    10000.  , 68616520.  , 68616520.  ,     2185.64],\n",
       "       [46154151.  , 68616520.  ,    10000.  ,       16.55,      354.3 ,     3199.4 ],\n",
       "       [66055249.  ,    10000.  ,    10000.  , 68616520.  ,      309.97,      301.9 ]])"
      ]
     },
     "execution_count": 82,
     "metadata": {},
     "output_type": "execute_result"
    }
   ],
   "source": [
    "#Now we are manipulating numeric data \n",
    "#return numeric data\n",
    "load_data_numeric"
   ]
  },
  {
   "cell_type": "code",
   "execution_count": 83,
   "id": "ae87d8db",
   "metadata": {},
   "outputs": [
    {
     "data": {
      "text/plain": [
       "array(['id', 'loan_amnt', 'funded_amnt', 'int_rate', 'installment', 'total_pymnt'], dtype='<U19')"
      ]
     },
     "execution_count": 83,
     "metadata": {},
     "output_type": "execute_result"
    }
   ],
   "source": [
    "header_numeric"
   ]
  },
  {
   "cell_type": "code",
   "execution_count": 84,
   "id": "b9742269",
   "metadata": {},
   "outputs": [
    {
     "data": {
      "text/plain": [
       "0"
      ]
     },
     "execution_count": 84,
     "metadata": {},
     "output_type": "execute_result"
    }
   ],
   "source": [
    "#check for missing values in numeric data\n",
    "np.isnan(load_data_numeric).sum()"
   ]
  },
  {
   "cell_type": "code",
   "execution_count": 85,
   "id": "07095962",
   "metadata": {},
   "outputs": [
    {
     "data": {
      "text/plain": [
       "68616520.0"
      ]
     },
     "execution_count": 85,
     "metadata": {},
     "output_type": "execute_result"
    }
   ],
   "source": [
    "#check for filler values \n",
    "filler_max"
   ]
  },
  {
   "cell_type": "code",
   "execution_count": 86,
   "id": "50b765bc",
   "metadata": {},
   "outputs": [
    {
     "data": {
      "text/plain": [
       "array([False, False, False, ..., False, False, False])"
      ]
     },
     "execution_count": 86,
     "metadata": {},
     "output_type": "execute_result"
    }
   ],
   "source": [
    "np.isin(load_data_numeric[:,0], filler_max)"
   ]
  },
  {
   "cell_type": "code",
   "execution_count": 87,
   "id": "45911cf3",
   "metadata": {},
   "outputs": [
    {
     "data": {
      "text/plain": [
       "0"
      ]
     },
     "execution_count": 87,
     "metadata": {},
     "output_type": "execute_result"
    }
   ],
   "source": [
    "np.isin(load_data_numeric[:,0], filler_max).sum()"
   ]
  },
  {
   "cell_type": "code",
   "execution_count": 88,
   "id": "72fcea7b",
   "metadata": {},
   "outputs": [
    {
     "data": {
      "text/plain": [
       "array(['id', 'loan_amnt', 'funded_amnt', 'int_rate', 'installment', 'total_pymnt'], dtype='<U19')"
      ]
     },
     "execution_count": 88,
     "metadata": {},
     "output_type": "execute_result"
    }
   ],
   "source": [
    "header_numeric"
   ]
  },
  {
   "cell_type": "code",
   "execution_count": 89,
   "id": "33129906",
   "metadata": {},
   "outputs": [
    {
     "data": {
      "text/plain": [
       "array([[  373332.  ,     1000.  ,     1000.  ,        6.  ,       31.42,        0.  ],\n",
       "       [54015809.19,    15273.46,    15311.04,       16.62,      440.92,     3143.85],\n",
       "       [68616519.  ,    35000.  ,    35000.  ,       28.99,     1372.97,    41913.62]])"
      ]
     },
     "execution_count": 89,
     "metadata": {},
     "output_type": "execute_result"
    }
   ],
   "source": [
    "filler_stats[:, columns_numeric]"
   ]
  },
  {
   "cell_type": "code",
   "execution_count": 90,
   "id": "1584e6a1",
   "metadata": {},
   "outputs": [
    {
     "data": {
      "text/plain": [
       "array([35000., 30000., 15000., ..., 10000., 10000., 10000.])"
      ]
     },
     "execution_count": 90,
     "metadata": {},
     "output_type": "execute_result"
    }
   ],
   "source": [
    "#looking into funded_amount column of numeirc data\n",
    "load_data_numeric[:,2]"
   ]
  },
  {
   "cell_type": "code",
   "execution_count": 91,
   "id": "de3156e6",
   "metadata": {},
   "outputs": [
    {
     "data": {
      "text/plain": [
       "array([36, 60])"
      ]
     },
     "execution_count": 91,
     "metadata": {},
     "output_type": "execute_result"
    }
   ],
   "source": [
    "np.unique(load_data_strings[:,2])"
   ]
  },
  {
   "cell_type": "code",
   "execution_count": 92,
   "id": "aeb50a8a",
   "metadata": {},
   "outputs": [],
   "source": [
    "#set funded_amount column equal to filler_max value and check for minimum\n",
    "load_data_numeric[:,2] = np.where(load_data_numeric[:,2] == filler_max, \n",
    "                                 filler_stats[0, columns_numeric[2]],\n",
    "                                 load_data_numeric[:,2])"
   ]
  },
  {
   "cell_type": "code",
   "execution_count": 93,
   "id": "0c1112af",
   "metadata": {},
   "outputs": [
    {
     "data": {
      "text/plain": [
       "array([35000., 30000., 15000., ..., 10000., 10000., 10000.])"
      ]
     },
     "execution_count": 93,
     "metadata": {},
     "output_type": "execute_result"
    }
   ],
   "source": [
    "load_data_numeric[:,2]"
   ]
  },
  {
   "cell_type": "code",
   "execution_count": 94,
   "id": "a36f43b6",
   "metadata": {},
   "outputs": [
    {
     "data": {
      "text/plain": [
       "6.0"
      ]
     },
     "execution_count": 94,
     "metadata": {},
     "output_type": "execute_result"
    }
   ],
   "source": [
    "filler_stats[0, columns_numeric[3]]"
   ]
  },
  {
   "cell_type": "code",
   "execution_count": 95,
   "id": "fde4fe76",
   "metadata": {},
   "outputs": [
    {
     "data": {
      "text/plain": [
       "array(['id', 'loan_amnt', 'funded_amnt', 'int_rate', 'installment', 'total_pymnt'], dtype='<U19')"
      ]
     },
     "execution_count": 95,
     "metadata": {},
     "output_type": "execute_result"
    }
   ],
   "source": [
    "header_numeric"
   ]
  },
  {
   "cell_type": "code",
   "execution_count": 96,
   "id": "f73dec56",
   "metadata": {},
   "outputs": [],
   "source": [
    "#working with loan_amnt, int_rate, installment\n",
    "for i in [1,3,4,5]:\n",
    "    load_data_numeric[:,i] = np.where(load_data_numeric[:,i] == filler_max, \n",
    "                                 filler_stats[2, columns_numeric[i]],\n",
    "                                 load_data_numeric[:,i])\n",
    "    "
   ]
  },
  {
   "cell_type": "code",
   "execution_count": 97,
   "id": "5f528eb6",
   "metadata": {},
   "outputs": [
    {
     "data": {
      "text/plain": [
       "array([[48010226.  ,    35000.  ,    35000.  ,       13.33,     1184.86,     9452.96],\n",
       "       [57693261.  ,    30000.  ,    30000.  ,       28.99,      938.57,     4679.7 ],\n",
       "       [59432726.  ,    15000.  ,    15000.  ,       28.99,      494.86,     1969.83],\n",
       "       ...,\n",
       "       [50415990.  ,    10000.  ,    10000.  ,       28.99,     1372.97,     2185.64],\n",
       "       [46154151.  ,    35000.  ,    10000.  ,       16.55,      354.3 ,     3199.4 ],\n",
       "       [66055249.  ,    10000.  ,    10000.  ,       28.99,      309.97,      301.9 ]])"
      ]
     },
     "execution_count": 97,
     "metadata": {},
     "output_type": "execute_result"
    }
   ],
   "source": [
    "load_data_numeric"
   ]
  },
  {
   "cell_type": "code",
   "execution_count": 98,
   "id": "6b1347f0",
   "metadata": {},
   "outputs": [
    {
     "data": {
      "text/plain": [
       "array([1.13, 1.12, 1.08, 1.11, 1.1 , 1.12, 1.09, 1.13, 1.13, 1.1 , 1.06, 1.09])"
      ]
     },
     "execution_count": 98,
     "metadata": {},
     "output_type": "execute_result"
    }
   ],
   "source": [
    "#now we are going convert currency from EUR to USD\n",
    "EUR_USD = np.genfromtxt(\"D:\\Data Analytics\\Data Analyst Course\\S28 - A Loan Data Example with NumPy\\EUR-USD.csv\",\n",
    "                       delimiter = ',',\n",
    "                       autostrip = True,\n",
    "                       skip_header = 1,\n",
    "                       usecols = 3)\n",
    "EUR_USD"
   ]
  },
  {
   "cell_type": "code",
   "execution_count": 99,
   "id": "b6adfced",
   "metadata": {},
   "outputs": [
    {
     "data": {
      "text/plain": [
       "array([ 5,  0,  9, ...,  6,  4, 12])"
      ]
     },
     "execution_count": 99,
     "metadata": {},
     "output_type": "execute_result"
    }
   ],
   "source": [
    "#return loan month \n",
    "#month reprsented by integers values from 1 to 12\n",
    "#and 0 represented to mean of the data\n",
    "load_data_strings[:,0]"
   ]
  },
  {
   "cell_type": "code",
   "execution_count": 100,
   "id": "cd648d32",
   "metadata": {},
   "outputs": [
    {
     "data": {
      "text/plain": [
       "array([1.1 , 1.11, 1.13, ..., 1.12, 1.11, 1.09])"
      ]
     },
     "execution_count": 100,
     "metadata": {},
     "output_type": "execute_result"
    }
   ],
   "source": [
    "exchange_rate = load_data_strings[:,0]\n",
    "\n",
    "for i in range(1,13):\n",
    "    exchange_rate = np.where(exchange_rate == i,\n",
    "                             EUR_USD[i-1],\n",
    "                             exchange_rate)\n",
    "    \n",
    "    exchange_rate = np.where(exchange_rate == 0,\n",
    "                            np.mean(EUR_USD),\n",
    "                            exchange_rate)\n",
    "exchange_rate"
   ]
  },
  {
   "cell_type": "code",
   "execution_count": 101,
   "id": "4211ec0f",
   "metadata": {},
   "outputs": [
    {
     "data": {
      "text/plain": [
       "(10000, 6)"
      ]
     },
     "execution_count": 101,
     "metadata": {},
     "output_type": "execute_result"
    }
   ],
   "source": [
    "load_data_numeric.shape"
   ]
  },
  {
   "cell_type": "code",
   "execution_count": 102,
   "id": "f8f66b57",
   "metadata": {},
   "outputs": [
    {
     "data": {
      "text/plain": [
       "(10000,)"
      ]
     },
     "execution_count": 102,
     "metadata": {},
     "output_type": "execute_result"
    }
   ],
   "source": [
    "exchange_rate.shape"
   ]
  },
  {
   "cell_type": "code",
   "execution_count": 103,
   "id": "ce756526",
   "metadata": {},
   "outputs": [],
   "source": [
    "exchange_rate = np.reshape(exchange_rate, (10000,1))"
   ]
  },
  {
   "cell_type": "code",
   "execution_count": 104,
   "id": "d349e3e3",
   "metadata": {},
   "outputs": [
    {
     "data": {
      "text/plain": [
       "array([[48010226.  ,    35000.  ,    35000.  , ...,     1184.86,     9452.96,        1.1 ],\n",
       "       [57693261.  ,    30000.  ,    30000.  , ...,      938.57,     4679.7 ,        1.11],\n",
       "       [59432726.  ,    15000.  ,    15000.  , ...,      494.86,     1969.83,        1.13],\n",
       "       ...,\n",
       "       [50415990.  ,    10000.  ,    10000.  , ...,     1372.97,     2185.64,        1.12],\n",
       "       [46154151.  ,    35000.  ,    10000.  , ...,      354.3 ,     3199.4 ,        1.11],\n",
       "       [66055249.  ,    10000.  ,    10000.  , ...,      309.97,      301.9 ,        1.09]])"
      ]
     },
     "execution_count": 104,
     "metadata": {},
     "output_type": "execute_result"
    }
   ],
   "source": [
    "#let add the exchange_rate data into load_data_numeric by using hstack() function\n",
    "load_data_numeric = np.hstack((load_data_numeric, exchange_rate))\n",
    "load_data_numeric"
   ]
  },
  {
   "cell_type": "code",
   "execution_count": 105,
   "id": "6a6333bb",
   "metadata": {},
   "outputs": [],
   "source": [
    "#add header into new column we just added\n",
    "header_numeric = np.concatenate((header_numeric, np.array(['exchange_rate'])))"
   ]
  },
  {
   "cell_type": "code",
   "execution_count": 106,
   "id": "591dc786",
   "metadata": {},
   "outputs": [
    {
     "data": {
      "text/plain": [
       "array(['id', 'loan_amnt', 'funded_amnt', 'int_rate', 'installment', 'total_pymnt', 'exchange_rate'],\n",
       "      dtype='<U19')"
      ]
     },
     "execution_count": 106,
     "metadata": {},
     "output_type": "execute_result"
    }
   ],
   "source": [
    "header_numeric"
   ]
  },
  {
   "cell_type": "code",
   "execution_count": 107,
   "id": "8a14b566",
   "metadata": {},
   "outputs": [],
   "source": [
    "#here in header we can see loan_amnt, funded_amnt, installment, total_pymnt are in dollars\n",
    "#so we store them in a new variable \n",
    "column_dollar = np.array([1,2,4,5])"
   ]
  },
  {
   "cell_type": "code",
   "execution_count": 108,
   "id": "09de71e1",
   "metadata": {},
   "outputs": [
    {
     "data": {
      "text/plain": [
       "array([[[35000.  , 35000.  ,  1184.86,  9452.96]],\n",
       "\n",
       "       [[30000.  , 30000.  ,   938.57,  4679.7 ]],\n",
       "\n",
       "       [[15000.  , 15000.  ,   494.86,  1969.83]],\n",
       "\n",
       "       ...,\n",
       "\n",
       "       [[10000.  , 10000.  ,  1372.97,  2185.64]],\n",
       "\n",
       "       [[35000.  , 10000.  ,   354.3 ,  3199.4 ]],\n",
       "\n",
       "       [[10000.  , 10000.  ,   309.97,   301.9 ]]])"
      ]
     },
     "execution_count": 108,
     "metadata": {},
     "output_type": "execute_result"
    }
   ],
   "source": [
    "#return data corresponding to dollars\n",
    "load_data_numeric[:,[column_dollar]]"
   ]
  },
  {
   "cell_type": "code",
   "execution_count": 109,
   "id": "42e4d5fa",
   "metadata": {},
   "outputs": [
    {
     "data": {
      "text/plain": [
       "array([1.1 , 1.11, 1.13, ..., 1.12, 1.11, 1.09])"
      ]
     },
     "execution_count": 109,
     "metadata": {},
     "output_type": "execute_result"
    }
   ],
   "source": [
    "load_data_numeric[:,6]"
   ]
  },
  {
   "cell_type": "code",
   "execution_count": 110,
   "id": "6d14f64a",
   "metadata": {},
   "outputs": [],
   "source": [
    "#now we convert EURO into USD \n",
    "for i in column_dollar:\n",
    "    load_data_numeric = np.hstack((load_data_numeric, np.reshape(load_data_numeric[:,i] / load_data_numeric[:,6], (10000,1))))"
   ]
  },
  {
   "cell_type": "code",
   "execution_count": 111,
   "id": "11cd3e4b",
   "metadata": {},
   "outputs": [
    {
     "data": {
      "text/plain": [
       "array([[48010226.  ,    35000.  ,    35000.  , ...,    31933.3 ,     1081.04,     8624.69],\n",
       "       [57693261.  ,    30000.  ,    30000.  , ...,    27132.46,      848.86,     4232.39],\n",
       "       [59432726.  ,    15000.  ,    15000.  , ...,    13326.3 ,      439.64,     1750.04],\n",
       "       ...,\n",
       "       [50415990.  ,    10000.  ,    10000.  , ...,     8910.3 ,     1223.36,     1947.47],\n",
       "       [46154151.  ,    35000.  ,    10000.  , ...,     8997.4 ,      318.78,     2878.63],\n",
       "       [66055249.  ,    10000.  ,    10000.  , ...,     9145.8 ,      283.49,      276.11]])"
      ]
     },
     "execution_count": 111,
     "metadata": {},
     "output_type": "execute_result"
    }
   ],
   "source": [
    "load_data_numeric"
   ]
  },
  {
   "cell_type": "code",
   "execution_count": 112,
   "id": "ddd7c442",
   "metadata": {},
   "outputs": [
    {
     "data": {
      "text/plain": [
       "(10000, 11)"
      ]
     },
     "execution_count": 112,
     "metadata": {},
     "output_type": "execute_result"
    }
   ],
   "source": [
    "load_data_numeric.shape"
   ]
  },
  {
   "cell_type": "code",
   "execution_count": 113,
   "id": "88958105",
   "metadata": {},
   "outputs": [],
   "source": [
    "#now we add EUR after the column having currency in EUR\n",
    "#store that header in another variable\n",
    "header_additional = np.array([column_name + '_EUR' for column_name in header_numeric[column_dollar]] )"
   ]
  },
  {
   "cell_type": "code",
   "execution_count": 114,
   "id": "8f8bed32",
   "metadata": {},
   "outputs": [],
   "source": [
    "header_numeric = np.concatenate((header_numeric, header_additional))"
   ]
  },
  {
   "cell_type": "code",
   "execution_count": 115,
   "id": "6a4f8a2a",
   "metadata": {},
   "outputs": [
    {
     "data": {
      "text/plain": [
       "array(['id', 'loan_amnt', 'funded_amnt', 'int_rate', 'installment', 'total_pymnt', 'exchange_rate',\n",
       "       'loan_amnt_EUR', 'funded_amnt_EUR', 'installment_EUR', 'total_pymnt_EUR'], dtype='<U19')"
      ]
     },
     "execution_count": 115,
     "metadata": {},
     "output_type": "execute_result"
    }
   ],
   "source": [
    "header_numeric"
   ]
  },
  {
   "cell_type": "code",
   "execution_count": 116,
   "id": "832475ba",
   "metadata": {},
   "outputs": [],
   "source": [
    "#represent dollar currency in USD\n",
    "header_numeric[column_dollar] = np.array([column_name + '_USD' for column_name in header_numeric[column_dollar]] )"
   ]
  },
  {
   "cell_type": "code",
   "execution_count": 117,
   "id": "d6e61dba",
   "metadata": {},
   "outputs": [
    {
     "data": {
      "text/plain": [
       "array(['id', 'loan_amnt_USD', 'funded_amnt_USD', 'int_rate', 'installment_USD', 'total_pymnt_USD',\n",
       "       'exchange_rate', 'loan_amnt_EUR', 'funded_amnt_EUR', 'installment_EUR', 'total_pymnt_EUR'],\n",
       "      dtype='<U19')"
      ]
     },
     "execution_count": 117,
     "metadata": {},
     "output_type": "execute_result"
    }
   ],
   "source": [
    "header_numeric"
   ]
  },
  {
   "cell_type": "code",
   "execution_count": 118,
   "id": "c2e73738",
   "metadata": {},
   "outputs": [],
   "source": [
    "#we rearrange the column to EUR follows by USD \n",
    "column_index_order = [0,1,7,2,8,3,4,9,5,10,6]"
   ]
  },
  {
   "cell_type": "code",
   "execution_count": 119,
   "id": "e230c394",
   "metadata": {},
   "outputs": [],
   "source": [
    "header_numeric = header_numeric[column_index_order]"
   ]
  },
  {
   "cell_type": "code",
   "execution_count": 120,
   "id": "6271e533",
   "metadata": {},
   "outputs": [
    {
     "data": {
      "text/plain": [
       "array([[48010226.  ,    35000.  ,    35000.  , ...,    31933.3 ,     1081.04,     8624.69],\n",
       "       [57693261.  ,    30000.  ,    30000.  , ...,    27132.46,      848.86,     4232.39],\n",
       "       [59432726.  ,    15000.  ,    15000.  , ...,    13326.3 ,      439.64,     1750.04],\n",
       "       ...,\n",
       "       [50415990.  ,    10000.  ,    10000.  , ...,     8910.3 ,     1223.36,     1947.47],\n",
       "       [46154151.  ,    35000.  ,    10000.  , ...,     8997.4 ,      318.78,     2878.63],\n",
       "       [66055249.  ,    10000.  ,    10000.  , ...,     9145.8 ,      283.49,      276.11]])"
      ]
     },
     "execution_count": 120,
     "metadata": {},
     "output_type": "execute_result"
    }
   ],
   "source": [
    "load_data_numeric"
   ]
  },
  {
   "cell_type": "code",
   "execution_count": 121,
   "id": "49132129",
   "metadata": {},
   "outputs": [],
   "source": [
    "load_data_numeric = load_data_numeric[:,column_index_order]"
   ]
  },
  {
   "cell_type": "code",
   "execution_count": 122,
   "id": "edb828c7",
   "metadata": {},
   "outputs": [
    {
     "data": {
      "text/plain": [
       "array([[48010226.  ,    35000.  ,    31933.3 , ...,     9452.96,     8624.69,        1.1 ],\n",
       "       [57693261.  ,    30000.  ,    27132.46, ...,     4679.7 ,     4232.39,        1.11],\n",
       "       [59432726.  ,    15000.  ,    13326.3 , ...,     1969.83,     1750.04,        1.13],\n",
       "       ...,\n",
       "       [50415990.  ,    10000.  ,     8910.3 , ...,     2185.64,     1947.47,        1.12],\n",
       "       [46154151.  ,    35000.  ,    31490.9 , ...,     3199.4 ,     2878.63,        1.11],\n",
       "       [66055249.  ,    10000.  ,     9145.8 , ...,      301.9 ,      276.11,        1.09]])"
      ]
     },
     "execution_count": 122,
     "metadata": {},
     "output_type": "execute_result"
    }
   ],
   "source": [
    "load_data_numeric"
   ]
  },
  {
   "cell_type": "code",
   "execution_count": 123,
   "id": "365c2d22",
   "metadata": {},
   "outputs": [
    {
     "data": {
      "text/plain": [
       "array(['id', 'loan_amnt_USD', 'loan_amnt_EUR', 'funded_amnt_USD', 'funded_amnt_EUR', 'int_rate',\n",
       "       'installment_USD', 'installment_EUR', 'total_pymnt_USD', 'total_pymnt_EUR', 'exchange_rate'],\n",
       "      dtype='<U19')"
      ]
     },
     "execution_count": 123,
     "metadata": {},
     "output_type": "execute_result"
    }
   ],
   "source": [
    "#now we see last column of numeric dataset - interest_rate\n",
    "header_numeric"
   ]
  },
  {
   "cell_type": "code",
   "execution_count": 124,
   "id": "0c7ce539",
   "metadata": {},
   "outputs": [
    {
     "data": {
      "text/plain": [
       "array([13.33, 28.99, 28.99, ..., 28.99, 16.55, 28.99])"
      ]
     },
     "execution_count": 124,
     "metadata": {},
     "output_type": "execute_result"
    }
   ],
   "source": [
    "load_data_numeric[:,5]"
   ]
  },
  {
   "cell_type": "code",
   "execution_count": 125,
   "id": "a43d38ae",
   "metadata": {},
   "outputs": [
    {
     "data": {
      "text/plain": [
       "array([0.13, 0.29, 0.29, ..., 0.29, 0.17, 0.29])"
      ]
     },
     "execution_count": 125,
     "metadata": {},
     "output_type": "execute_result"
    }
   ],
   "source": [
    "#the data above is much high in numeric and not in specific form                                 #doubt\n",
    "#so we change this number into percentile form \n",
    "load_data_numeric[:,5] = load_data_numeric[:,5]/100\n",
    "load_data_numeric[:,5]"
   ]
  },
  {
   "cell_type": "code",
   "execution_count": 126,
   "id": "ab7f34f5",
   "metadata": {},
   "outputs": [],
   "source": [
    "#we create checkpoint for numeric data\n",
    "checkpoint_numeric = checkpoint('checkpoint-numeric', header_numeric, load_data_numeric)"
   ]
  },
  {
   "cell_type": "code",
   "execution_count": 127,
   "id": "5155f207",
   "metadata": {},
   "outputs": [
    {
     "data": {
      "text/plain": [
       "(array(['id', 'loan_amnt_USD', 'loan_amnt_EUR', 'funded_amnt_USD', 'funded_amnt_EUR', 'int_rate',\n",
       "        'installment_USD', 'installment_EUR', 'total_pymnt_USD', 'total_pymnt_EUR', 'exchange_rate'],\n",
       "       dtype='<U19'),\n",
       " array([[48010226.  ,    35000.  ,    31933.3 , ...,     9452.96,     8624.69,        1.1 ],\n",
       "        [57693261.  ,    30000.  ,    27132.46, ...,     4679.7 ,     4232.39,        1.11],\n",
       "        [59432726.  ,    15000.  ,    13326.3 , ...,     1969.83,     1750.04,        1.13],\n",
       "        ...,\n",
       "        [50415990.  ,    10000.  ,     8910.3 , ...,     2185.64,     1947.47,        1.12],\n",
       "        [46154151.  ,    35000.  ,    31490.9 , ...,     3199.4 ,     2878.63,        1.11],\n",
       "        [66055249.  ,    10000.  ,     9145.8 , ...,      301.9 ,      276.11,        1.09]]))"
      ]
     },
     "execution_count": 127,
     "metadata": {},
     "output_type": "execute_result"
    }
   ],
   "source": [
    "checkpoint_numeric['header'], checkpoint_numeric['data']"
   ]
  },
  {
   "cell_type": "code",
   "execution_count": 128,
   "id": "777c2ff9",
   "metadata": {},
   "outputs": [],
   "source": [
    "#upto this we organize and manipulate the numeric and strings dataset respectively"
   ]
  },
  {
   "cell_type": "markdown",
   "id": "fd5cbb5d",
   "metadata": {},
   "source": [
    "**NOW COMBINE OUR PREPROCESSED DATA OF NUMERIC AND TEXT DATA TOGETHER**"
   ]
  },
  {
   "cell_type": "code",
   "execution_count": 129,
   "id": "c46b929d",
   "metadata": {},
   "outputs": [
    {
     "data": {
      "text/plain": [
       "(10000, 7)"
      ]
     },
     "execution_count": 129,
     "metadata": {},
     "output_type": "execute_result"
    }
   ],
   "source": [
    "#complete the all dataset \n",
    "#to stack them we need to check the shape of the both dataset\n",
    "load_data_strings.shape"
   ]
  },
  {
   "cell_type": "code",
   "execution_count": 130,
   "id": "93605cda",
   "metadata": {},
   "outputs": [
    {
     "data": {
      "text/plain": [
       "(10000, 11)"
      ]
     },
     "execution_count": 130,
     "metadata": {},
     "output_type": "execute_result"
    }
   ],
   "source": [
    "load_data_numeric.shape"
   ]
  },
  {
   "cell_type": "code",
   "execution_count": 131,
   "id": "68fc19c8",
   "metadata": {},
   "outputs": [],
   "source": [
    "#so both dataset have same number of rows, so we can stack them horizontally \n",
    "load_data = np.hstack((load_data_strings, load_data_numeric))"
   ]
  },
  {
   "cell_type": "code",
   "execution_count": 132,
   "id": "c2bd1fb7",
   "metadata": {},
   "outputs": [
    {
     "data": {
      "text/plain": [
       "array([[   5.  ,    1.  ,   36.  , ..., 9452.96, 8624.69,    1.1 ],\n",
       "       [   0.  ,    1.  ,   36.  , ..., 4679.7 , 4232.39,    1.11],\n",
       "       [   9.  ,    1.  ,   36.  , ..., 1969.83, 1750.04,    1.13],\n",
       "       ...,\n",
       "       [   6.  ,    1.  ,   36.  , ..., 2185.64, 1947.47,    1.12],\n",
       "       [   4.  ,    1.  ,   36.  , ..., 3199.4 , 2878.63,    1.11],\n",
       "       [  12.  ,    1.  ,   36.  , ...,  301.9 ,  276.11,    1.09]])"
      ]
     },
     "execution_count": 132,
     "metadata": {},
     "output_type": "execute_result"
    }
   ],
   "source": [
    "load_data"
   ]
  },
  {
   "cell_type": "code",
   "execution_count": 133,
   "id": "5a585081",
   "metadata": {},
   "outputs": [
    {
     "data": {
      "text/plain": [
       "(10000, 18)"
      ]
     },
     "execution_count": 133,
     "metadata": {},
     "output_type": "execute_result"
    }
   ],
   "source": [
    "load_data.shape"
   ]
  },
  {
   "cell_type": "code",
   "execution_count": 134,
   "id": "a97fe8f0",
   "metadata": {},
   "outputs": [
    {
     "data": {
      "text/plain": [
       "0"
      ]
     },
     "execution_count": 134,
     "metadata": {},
     "output_type": "execute_result"
    }
   ],
   "source": [
    "#now check for missing value, if any \n",
    "np.isnan(load_data).sum()"
   ]
  },
  {
   "cell_type": "code",
   "execution_count": 135,
   "id": "984e0039",
   "metadata": {},
   "outputs": [],
   "source": [
    "#now combine the header of numeric and text data together \n",
    "header_full = np.concatenate((header_numeric, header_strings))"
   ]
  },
  {
   "cell_type": "code",
   "execution_count": 136,
   "id": "556c523c",
   "metadata": {},
   "outputs": [
    {
     "data": {
      "text/plain": [
       "array(['id', 'loan_amnt_USD', 'loan_amnt_EUR', 'funded_amnt_USD', 'funded_amnt_EUR', 'int_rate',\n",
       "       'installment_USD', 'installment_EUR', 'total_pymnt_USD', 'total_pymnt_EUR', 'exchange_rate',\n",
       "       'issue_d', 'loan_status', 'term', 'sub_grade', 'verification_status', 'url', 'addr_state'],\n",
       "      dtype='<U19')"
      ]
     },
     "execution_count": 136,
     "metadata": {},
     "output_type": "execute_result"
    }
   ],
   "source": [
    "header_full"
   ]
  },
  {
   "cell_type": "code",
   "execution_count": 137,
   "id": "7e39de83",
   "metadata": {},
   "outputs": [],
   "source": [
    "#now the sort the combined data for easy understand\n",
    "#sort the data by url \n",
    "load_data = load_data[np.argsort(load_data[:,16])]"
   ]
  },
  {
   "cell_type": "code",
   "execution_count": 138,
   "id": "67095a92",
   "metadata": {},
   "outputs": [
    {
     "data": {
      "text/plain": [
       "array([   0,  261,  260, ..., 9971, 9973, 9999], dtype=int64)"
      ]
     },
     "execution_count": 138,
     "metadata": {},
     "output_type": "execute_result"
    }
   ],
   "source": [
    "np.argsort(load_data[:,16])"
   ]
  },
  {
   "cell_type": "code",
   "execution_count": 140,
   "id": "9fa11771",
   "metadata": {},
   "outputs": [
    {
     "data": {
      "text/plain": [
       "array([['id', 'loan_amnt_USD', 'loan_amnt_EUR', ..., 'verification_status', 'url', 'addr_state'],\n",
       "       ['id', 'loan_amnt_USD', 'loan_amnt_EUR', ..., 'verification_status', 'url', 'addr_state'],\n",
       "       ['0.0', '1.0', '60.0', ..., '0.0', '0.0', '1.1056866943836212'],\n",
       "       ...,\n",
       "       ['11.0', '1.0', '36.0', ..., '41913.62', '39604.60026105472', '1.0583018064498901'],\n",
       "       ['11.0', '1.0', '60.0', ..., '41913.62', '39604.60026105472', '1.0583018064498901'],\n",
       "       ['11.0', '1.0', '36.0', ..., '41913.62', '39604.60026105472', '1.0583018064498901']],\n",
       "      dtype='<U32')"
      ]
     },
     "execution_count": 140,
     "metadata": {},
     "output_type": "execute_result"
    }
   ],
   "source": [
    "#now let stack the header and data together using vstack\n",
    "load_data = np.vstack((header_full, load_data))\n",
    "load_data"
   ]
  },
  {
   "cell_type": "code",
   "execution_count": 141,
   "id": "20150590",
   "metadata": {},
   "outputs": [
    {
     "data": {
      "text/plain": [
       "array([['id', 'loan_amnt_USD', 'loan_amnt_EUR', ..., 'verification_status', 'url', 'addr_state'],\n",
       "       ['0.0', '1.0', '60.0', ..., '0.0', '0.0', '1.1056866943836212'],\n",
       "       ['12.0', '1.0', '36.0', ..., '0.0', '0.0', '1.093398094177246'],\n",
       "       ...,\n",
       "       ['11.0', '1.0', '36.0', ..., '41913.62', '39604.60026105472', '1.0583018064498901'],\n",
       "       ['11.0', '1.0', '60.0', ..., '41913.62', '39604.60026105472', '1.0583018064498901'],\n",
       "       ['11.0', '1.0', '36.0', ..., '41913.62', '39604.60026105472', '1.0583018064498901']],\n",
       "      dtype='<U32')"
      ]
     },
     "execution_count": 141,
     "metadata": {},
     "output_type": "execute_result"
    }
   ],
   "source": [
    "load_data = np.delete(load_data,0, axis = 0)\n",
    "load_data"
   ]
  },
  {
   "cell_type": "code",
   "execution_count": 142,
   "id": "443c0f22",
   "metadata": {},
   "outputs": [],
   "source": [
    "#save the clean and pre-process data into system\n",
    "np.savetxt(\"D:\\Data Analytics\\Data Analyst Course\\S28 - A Loan Data Example with NumPy\\loan-data-Preprocess.csv\",\n",
    "           load_data,\n",
    "          fmt = \"%s\",\n",
    "          delimiter = ',')"
   ]
  },
  {
   "cell_type": "code",
   "execution_count": null,
   "id": "58299334",
   "metadata": {},
   "outputs": [],
   "source": []
  }
 ],
 "metadata": {
  "kernelspec": {
   "display_name": "Python 3 (ipykernel)",
   "language": "python",
   "name": "python3"
  },
  "language_info": {
   "codemirror_mode": {
    "name": "ipython",
    "version": 3
   },
   "file_extension": ".py",
   "mimetype": "text/x-python",
   "name": "python",
   "nbconvert_exporter": "python",
   "pygments_lexer": "ipython3",
   "version": "3.9.12"
  }
 },
 "nbformat": 4,
 "nbformat_minor": 5
}
